{
 "cells": [
  {
   "cell_type": "code",
   "execution_count": null,
   "metadata": {},
   "outputs": [],
   "source": [
    "# 출처 : https://www.youtube.com/watch?v=VmB_bSa8Jf4&t=2755s\n",
    "# teddynote 강의 및 github"
   ]
  },
  {
   "cell_type": "code",
   "execution_count": 10,
   "metadata": {},
   "outputs": [
    {
     "data": {
      "text/plain": [
       "'1.6.0'"
      ]
     },
     "execution_count": 10,
     "metadata": {},
     "output_type": "execute_result"
    }
   ],
   "source": [
    "import openai\n",
    "\n",
    "\n",
    "openai.__version__"
   ]
  },
  {
   "cell_type": "code",
   "execution_count": 11,
   "metadata": {},
   "outputs": [
    {
     "data": {
      "text/plain": [
       "True"
      ]
     },
     "execution_count": 11,
     "metadata": {},
     "output_type": "execute_result"
    }
   ],
   "source": [
    "# 토큰 정보로드를 위한 라이브러리\n",
    "\n",
    "from dotenv import load_dotenv\n",
    "\n",
    "load_dotenv()"
   ]
  },
  {
   "cell_type": "code",
   "execution_count": 12,
   "metadata": {},
   "outputs": [
    {
     "data": {
      "text/plain": [
       "<openai.OpenAI at 0x1f20f633280>"
      ]
     },
     "execution_count": 12,
     "metadata": {},
     "output_type": "execute_result"
    }
   ],
   "source": [
    "# client는 OpenAI 모듈로 생성된 인스턴스\n",
    "\n",
    "from openai import OpenAI\n",
    "\n",
    "client = OpenAI()\n",
    "client"
   ]
  },
  {
   "cell_type": "code",
   "execution_count": 36,
   "metadata": {},
   "outputs": [
    {
     "name": "stdout",
     "output_type": "stream",
     "text": [
      "1+1은 2 입니다.None"
     ]
    }
   ],
   "source": [
    "completion = client.chat.completions.create(\n",
    "    model=\"gpt-3.5-turbo\",\n",
    "    messages=[\n",
    "        {\n",
    "            \"role\": \"system\",\n",
    "            \"content\": \"당신은 빅데이터 분석가이자, 사회문제를 해결하는 전문가입니다.\",\n",
    "        },\n",
    "        {\"role\": \"user\", \"content\": \"1+1=?\"},\n",
    "    ],\n",
    "    stream=True,\n",
    "    temperature=1.5,\n",
    ")\n",
    "\n",
    "final_answer = []\n",
    "\n",
    "for chunk in completion:\n",
    "    # chunk 저장\n",
    "    chunk_content = chunk.choices[0].delta.content\n",
    "    # chunk가 문자열이면 final_answer에 추가\n",
    "    if isinstance(chunk_content, str):\n",
    "        final_answer.append(chunk_content)\n",
    "    print(chunk_content, end=\"\")"
   ]
  },
  {
   "cell_type": "code",
   "execution_count": 37,
   "metadata": {},
   "outputs": [
    {
     "name": "stdout",
     "output_type": "stream",
     "text": [
      "1+1은 2 입니다.\n"
     ]
    }
   ],
   "source": [
    "final_answer = \"\".join(final_answer)\n",
    "print(final_answer)"
   ]
  },
  {
   "cell_type": "code",
   "execution_count": null,
   "metadata": {},
   "outputs": [],
   "source": [
    "Estimated Tokens\n",
    "\n",
    "-> OpenAI Token Calculator\n",
    "-> QUIZGECKO"
   ]
  },
  {
   "cell_type": "code",
   "execution_count": null,
   "metadata": {},
   "outputs": [],
   "source": [
    "print(completion.choices[0].message.content)"
   ]
  },
  {
   "cell_type": "code",
   "execution_count": 17,
   "metadata": {},
   "outputs": [
    {
     "data": {
      "text/plain": [
       "ChatCompletion(id='chatcmpl-9lua0SAM0GQEeItTy9kHqTAOkqWA9', choices=[Choice(finish_reason='stop', index=0, logprobs=None, message=ChatCompletionMessage(content='물론입니다! 아래는 피보나치 수열을 생성하는 파이썬 프로그램입니다.\\n\\n```python\\ndef fibonacci(n):\\n    fib_seq = [0, 1]\\n    while len(fib_seq) < n:\\n        fib_seq.append(fib_seq[-1] + fib_seq[-2])\\n    return fib_seq\\n\\nn = int(input(\"몇 개의 피보나치 수를 생성하시겠습니까? \"))\\nresult = fibonacci(n)\\nprint(result)\\n```\\n\\n이 프로그램은 사용자로부터 피보나치 수열을 생성할 개수를 입력으로 받아 해당 개수만큼의 피보나치 수열을 출력합니다.', role='assistant', function_call=None, tool_calls=None))], created=1721205936, model='gpt-3.5-turbo-0125', object='chat.completion', system_fingerprint=None, usage=CompletionUsage(completion_tokens=166, prompt_tokens=53, total_tokens=219))"
      ]
     },
     "execution_count": 17,
     "metadata": {},
     "output_type": "execute_result"
    }
   ],
   "source": [
    "role : system, user, assistant\n",
    "\n",
    "system -> 페르소나 \n",
    "user -> 나\n",
    "assistant -> 답변 \n",
    "\n",
    "role과 content로 역할 부여 "
   ]
  },
  {
   "cell_type": "code",
   "execution_count": 38,
   "metadata": {},
   "outputs": [],
   "source": [
    "# 연쇄적인 대화"
   ]
  },
  {
   "cell_type": "code",
   "execution_count": 43,
   "metadata": {},
   "outputs": [
    {
     "name": "stdout",
     "output_type": "stream",
     "text": [
      "서울이 대한민국의 수도입니다.\n"
     ]
    }
   ],
   "source": [
    "completion = client.chat.completions.create(\n",
    "    model=\"gpt-3.5-turbo\",\n",
    "    messages=[\n",
    "        {\n",
    "            \"role\": \"system\",\n",
    "            \"content\": \"you are a helpful assistant. you must answer in Korean.\",\n",
    "        },\n",
    "        {\"role\": \"user\", \"content\": \"대한민국의 수도는 어디인가요?\"},\n",
    "    ],\n",
    ")\n",
    "\n",
    "print(completion.choices[0].message.content)"
   ]
  },
  {
   "cell_type": "code",
   "execution_count": 47,
   "metadata": {},
   "outputs": [],
   "source": [
    "def ask(question):\n",
    "    completion = client.chat.completions.create(\n",
    "        model=\"gpt-3.5-turbo\",\n",
    "        messages=[\n",
    "            {\n",
    "                \"role\": \"system\",\n",
    "                \"content\": \"you are a helpful assistant. you must answer in Korean.\",\n",
    "            },\n",
    "            {\"role\": \"user\", \"content\": question},\n",
    "        ],\n",
    "    )\n",
    "\n",
    "    return completion.choices[0].message.content"
   ]
  },
  {
   "cell_type": "code",
   "execution_count": 48,
   "metadata": {},
   "outputs": [
    {
     "data": {
      "text/plain": [
       "'대한민국의 수도는 서울입니다.'"
      ]
     },
     "execution_count": 48,
     "metadata": {},
     "output_type": "execute_result"
    }
   ],
   "source": [
    "ask(\"대한민국의 수도는 어디인가요?\")"
   ]
  },
  {
   "cell_type": "code",
   "execution_count": 49,
   "metadata": {},
   "outputs": [
    {
     "data": {
      "text/plain": [
       "'죄송합니다. 저는 한국어로만 대화할 수 있어요. 어떤 도움이 필요하세요?'"
      ]
     },
     "execution_count": 49,
     "metadata": {},
     "output_type": "execute_result"
    }
   ],
   "source": [
    "ask(\"영어로 답변해주세요.\")"
   ]
  },
  {
   "cell_type": "code",
   "execution_count": 50,
   "metadata": {},
   "outputs": [],
   "source": [
    "# 이전 대화 내용을 저장하셔야 합니다."
   ]
  },
  {
   "cell_type": "code",
   "execution_count": 51,
   "metadata": {},
   "outputs": [
    {
     "name": "stdout",
     "output_type": "stream",
     "text": [
      "The capital of South Korea is Seoul.\n"
     ]
    }
   ],
   "source": [
    "completion = client.chat.completions.create(\n",
    "    model=\"gpt-3.5-turbo\",\n",
    "    messages=[\n",
    "        {\n",
    "            \"role\": \"system\",\n",
    "            \"content\": \"you are a helpful assistant. you must answer in Korean.\",\n",
    "        },\n",
    "        {\"role\": \"user\", \"content\": \"대한민국의 수도는 어디인가요?\"},\n",
    "        {\"role\": \"assistant\", \"content\": \"대한민국의 수도는 서울입니다.?\"},\n",
    "        {\"role\": \"user\", \"content\": \"이전의 답변을 영어로 대답해주세요.\"},\n",
    "    ],\n",
    ")\n",
    "\n",
    "print(completion.choices[0].message.content)"
   ]
  },
  {
   "cell_type": "code",
   "execution_count": 60,
   "metadata": {},
   "outputs": [],
   "source": [
    "def ask(question, message_history=[], model=\"gpt-3.5-turbo\"):\n",
    "    if len(message_history) == 0:\n",
    "        message_history.append(\n",
    "            {\n",
    "                \"role\": \"system\",\n",
    "                \"content\": \"You are a helpful assistant. You must answer in Korean\",\n",
    "            }\n",
    "        )\n",
    "\n",
    "    message_history.append({\"role\": \"user\", \"content\": question})\n",
    "\n",
    "    completion = client.chat.completions.create(\n",
    "        model=model,\n",
    "        messages=message_history,\n",
    "    )\n",
    "\n",
    "    message_history.append(\n",
    "        {\"role\": \"assistant\", \"content\": completion.choices[0].message.content}\n",
    "    )\n",
    "\n",
    "    return message_history"
   ]
  },
  {
   "cell_type": "code",
   "execution_count": 61,
   "metadata": {},
   "outputs": [],
   "source": [
    "message_history = ask(\"대한민국의 수도는 어디인가요?\", message_history=[])"
   ]
  },
  {
   "cell_type": "code",
   "execution_count": 62,
   "metadata": {},
   "outputs": [
    {
     "data": {
      "text/plain": [
       "[{'role': 'system',\n",
       "  'content': 'You are a helpful assistant. You must answer in Korean'},\n",
       " {'role': 'user', 'content': '대한민국의 수도는 어디인가요?'},\n",
       " {'role': 'assistant', 'content': '대한민국의 수도는 서울입니다.'}]"
      ]
     },
     "execution_count": 62,
     "metadata": {},
     "output_type": "execute_result"
    }
   ],
   "source": [
    "message_history"
   ]
  },
  {
   "cell_type": "code",
   "execution_count": 63,
   "metadata": {},
   "outputs": [],
   "source": [
    "message_history = ask(\"이전의 대답을 영어로 해주세요.\", message_history)"
   ]
  },
  {
   "cell_type": "code",
   "execution_count": 64,
   "metadata": {},
   "outputs": [
    {
     "data": {
      "text/plain": [
       "[{'role': 'system',\n",
       "  'content': 'You are a helpful assistant. You must answer in Korean'},\n",
       " {'role': 'user', 'content': '대한민국의 수도는 어디인가요?'},\n",
       " {'role': 'assistant', 'content': '대한민국의 수도는 서울입니다.'},\n",
       " {'role': 'user', 'content': '이전의 대답을 영어로 해주세요.'},\n",
       " {'role': 'assistant', 'content': 'The capital of South Korea is Seoul.'}]"
      ]
     },
     "execution_count": 64,
     "metadata": {},
     "output_type": "execute_result"
    }
   ],
   "source": [
    "message_history"
   ]
  },
  {
   "cell_type": "code",
   "execution_count": 65,
   "metadata": {},
   "outputs": [],
   "source": [
    "# json_object 답변형식"
   ]
  },
  {
   "cell_type": "code",
   "execution_count": 70,
   "metadata": {},
   "outputs": [
    {
     "name": "stdout",
     "output_type": "stream",
     "text": [
      "{\n",
      "  \"question\": \"통계에서 사용되는 척도 중에서 연속형 자료를 측정하는 데 사용되는 것은 무엇인가요?\",\n",
      "  \"options\": [\n",
      "    \"빈도수\",\n",
      "    \"백분율\",\n",
      "    \"평균\",\n",
      "    \"최빈값\"\n",
      "  ]\n",
      "}\n"
     ]
    }
   ],
   "source": [
    "completion = client.chat.completions.create(\n",
    "    model=\"gpt-3.5-turbo-1106\",\n",
    "    messages=[\n",
    "        {\n",
    "            \"role\": \"system\",\n",
    "            \"content\": \"you are a helpful assistant designed to output JSON. you must answer in Korean.\",\n",
    "        },\n",
    "        {\n",
    "            \"role\": \"user\",\n",
    "            \"content\": \"통계를 주제로 4지선다형 객관식 문제를 만들어주세요.\",\n",
    "        },\n",
    "    ],\n",
    "    response_format={\"type\": \"json_object\"},\n",
    ")\n",
    "\n",
    "print(completion.choices[0].message.content)"
   ]
  },
  {
   "cell_type": "code",
   "execution_count": 77,
   "metadata": {},
   "outputs": [],
   "source": [
    "response = client.chat.completions.create(\n",
    "    model=\"gpt-3.5-turbo-1106\",\n",
    "    response_format={\"type\": \"json_object\"},\n",
    "    messages=[\n",
    "        {\n",
    "            \"role\": \"system\",\n",
    "            \"content\": \"you are a helpful assistant designed to output JSON. you must answer in Korean.\",\n",
    "        },\n",
    "        {\n",
    "            \"role\": \"user\",\n",
    "            \"content\": \"통계를 주제로 4지선다형 객관식 문제를 만들어주세요. 정답은 index번호로 알려줘.\"\n",
    "            \"난이도는 [상, 중, 하] 중 하나로 표기해주세요.\",\n",
    "        },\n",
    "    ],\n",
    "    temperature=0.5,\n",
    "    max_tokens=300,\n",
    "    n=5,\n",
    ")"
   ]
  },
  {
   "cell_type": "code",
   "execution_count": 78,
   "metadata": {},
   "outputs": [
    {
     "name": "stdout",
     "output_type": "stream",
     "text": [
      "{\n",
      "  \"question\": \"한국의 인구 밀도가 가장 높은 지역은 어디인가요?\",\n",
      "  \"options\": [\"서울\", \"부산\", \"대구\", \"인천\"],\n",
      "  \"answer\": 0,\n",
      "  \"level\": \"중\"\n",
      "}\n",
      "{\n",
      "  \"question\": \"다음 중 가장 일반적으로 사용되는 통계 분석 방법은 무엇인가요?\",\n",
      "  \"options\": [\"회귀분석\", \"이항분포\", \"카이제곱검정\", \"t-검정\"],\n",
      "  \"answer\": 0,\n",
      "  \"difficulty\": \"중\"\n",
      "}\n",
      "{\n",
      "  \"question\": \"통계학에서 자료의 중심을 나타내는 대표값으로 산술평균, 중앙값, 최빈값 등이 있다. 이 중에서 자료의 전체 값에 영향을 받는 대표값은?\",\n",
      "  \"options\": [\"산술평균\", \"중앙값\", \"최빈값\"],\n",
      "  \"answer\": 0,\n",
      "  \"level\": \"중\"\n",
      "}\n",
      "{\n",
      "  \"question\": \"다음 중 통계학에서 사용되는 중심 경향성을 나타내는 지표는 무엇인가요?\",\n",
      "  \"options\": [\"표준편차\", \"중앙값\", \"범위\", \"평균\"],\n",
      "  \"answer\": 3,\n",
      "  \"difficulty\": \"중\"\n",
      "}\n",
      "{\n",
      "  \"question\": \"다음 중 통계학에서 사용되는 중심경향성을 나타내는 지표는 무엇인가요?\",\n",
      "  \"choices\": [\"표준편차\", \"평균\", \"분산\", \"최빈값\"],\n",
      "  \"answer\": 1,\n",
      "  \"difficulty\": \"하\"\n",
      "}\n"
     ]
    }
   ],
   "source": [
    "for res in response.choices:\n",
    "    print(res.message.content)"
   ]
  },
  {
   "cell_type": "code",
   "execution_count": 82,
   "metadata": {},
   "outputs": [
    {
     "name": "stdout",
     "output_type": "stream",
     "text": [
      "{\n",
      "  \"question\": \"한 국가의 인구 통계를 조사한 결과, 20세 미만의 인구 비율이 30%, 20세 이상 40세 미만의 인구 비율이 25%, 40세 이상의 인구 비율이 45%였습니다. 이 국가의 평균 연령은 얼마입니까?\",\n",
      "  \"options\": [\"25세\", \"30세\", \"35세\", \"40세\"],\n",
      "  \"answer_index\": 2,\n",
      "  \"level\": \"중\"\n",
      "}\n",
      "{\n",
      "  \"question\": \"한국의 전체 인구 중 여성의 비율은 얼마인가요?\",\n",
      "  \"options\": [\"48%\", \"50%\", \"52%\", \"55%\"],\n",
      "  \"answer_index\": 1,\n",
      "  \"level\": \"중\"\n",
      "}\n",
      "{\n",
      "  \"question\": \"한국의 인구 밀도가 가장 높은 지역은 어디인가요?\",\n",
      "  \"options\": [\"서울\", \"부산\", \"대구\", \"인천\"],\n",
      "  \"answer_index\": 0,\n",
      "  \"level\": \"중\"\n",
      "}\n",
      "{\n",
      "  \"question\": \"다음 중 통계학에서 사용되는 중심경향성을 나타내는 지표는 무엇인가요?\",\n",
      "  \"options\": [\"표준편차\", \"평균\", \"중앙값\", \"범위\"],\n",
      "  \"answer_index\": 1,\n",
      "  \"level\": \"하\"\n",
      "}\n",
      "{\n",
      "  \"question\": \"다음 중 가장 일반적인 통계 지표는 무엇인가요?\",\n",
      "  \"options\": [\"평균\", \"중앙값\", \"표준편차\", \"분산\"],\n",
      "  \"answer_index\": 0,\n",
      "  \"level\": \"중\"\n",
      "}\n"
     ]
    }
   ],
   "source": [
    "response = client.chat.completions.create(\n",
    "    model=\"gpt-3.5-turbo-1106\",\n",
    "    response_format={\"type\": \"json_object\"},\n",
    "    messages=[\n",
    "        {\n",
    "            \"role\": \"system\",\n",
    "            \"content\": \"you are a helpful assistant designed to output JSON. you must answer in Korean.\",\n",
    "        },\n",
    "        {\n",
    "            \"role\": \"user\",\n",
    "            \"content\": \"통계를 주제로 4지선다형 객관식 문제를 만들어주세요. \"\n",
    "            \"정답은 index번호로 'answer_index' key로 답변해주세요.\"\n",
    "            \"난이도는 [상, 중, 하] 중 하나로 표기하고, 'level' key 로 답변해주세요.\",\n",
    "        },\n",
    "    ],\n",
    "    temperature=0.5,\n",
    "    max_tokens=300,\n",
    "    n=5,\n",
    ")\n",
    "\n",
    "for res in response.choices:\n",
    "    print(res.message.content)\n",
    "\n",
    "# 후처리에 편하다."
   ]
  },
  {
   "cell_type": "code",
   "execution_count": 84,
   "metadata": {},
   "outputs": [
    {
     "data": {
      "text/plain": [
       "[{'question': '한 국가의 인구 통계를 조사한 결과, 20세 미만의 인구 비율이 30%, 20세 이상 40세 미만의 인구 비율이 25%, 40세 이상의 인구 비율이 45%였습니다. 이 국가의 평균 연령은 얼마입니까?',\n",
       "  'options': ['25세', '30세', '35세', '40세'],\n",
       "  'answer_index': 2,\n",
       "  'level': '중'},\n",
       " {'question': '한국의 전체 인구 중 여성의 비율은 얼마인가요?',\n",
       "  'options': ['48%', '50%', '52%', '55%'],\n",
       "  'answer_index': 1,\n",
       "  'level': '중'},\n",
       " {'question': '한국의 인구 밀도가 가장 높은 지역은 어디인가요?',\n",
       "  'options': ['서울', '부산', '대구', '인천'],\n",
       "  'answer_index': 0,\n",
       "  'level': '중'},\n",
       " {'question': '다음 중 통계학에서 사용되는 중심경향성을 나타내는 지표는 무엇인가요?',\n",
       "  'options': ['표준편차', '평균', '중앙값', '범위'],\n",
       "  'answer_index': 1,\n",
       "  'level': '하'},\n",
       " {'question': '다음 중 가장 일반적인 통계 지표는 무엇인가요?',\n",
       "  'options': ['평균', '중앙값', '표준편차', '분산'],\n",
       "  'answer_index': 0,\n",
       "  'level': '중'}]"
      ]
     },
     "execution_count": 84,
     "metadata": {},
     "output_type": "execute_result"
    }
   ],
   "source": [
    "import json\n",
    "\n",
    "json_result = [json.loads(res.message.content) for res in response.choices]\n",
    "json_result"
   ]
  },
  {
   "cell_type": "code",
   "execution_count": 94,
   "metadata": {},
   "outputs": [],
   "source": [
    "import pandas as pd\n",
    "\n",
    "df = pd.DataFrame(json_result)\n",
    "df.head()\n",
    "\n",
    "df.to_csv(\"stats.quiz.csv\", index=False)"
   ]
  },
  {
   "cell_type": "code",
   "execution_count": null,
   "metadata": {},
   "outputs": [],
   "source": []
  }
 ],
 "metadata": {
  "kernelspec": {
   "display_name": "base",
   "language": "python",
   "name": "python3"
  },
  "language_info": {
   "codemirror_mode": {
    "name": "ipython",
    "version": 3
   },
   "file_extension": ".py",
   "mimetype": "text/x-python",
   "name": "python",
   "nbconvert_exporter": "python",
   "pygments_lexer": "ipython3",
   "version": "3.10.14"
  }
 },
 "nbformat": 4,
 "nbformat_minor": 2
}
